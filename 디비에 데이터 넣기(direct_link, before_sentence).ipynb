{
 "cells": [
  {
   "cell_type": "code",
   "execution_count": null,
   "metadata": {
    "collapsed": true
   },
   "outputs": [],
   "source": [
    "### 드랍박스에서 공유링크 가져올 때, \n",
    "### recognition.json 에 있는 키값에 일치되는 음성만 \n",
    "### 공유링크를 뽑자\n",
    "### 그러려면"
   ]
  },
  {
   "cell_type": "code",
   "execution_count": null,
   "metadata": {
    "collapsed": true,
    "scrolled": true
   },
   "outputs": [],
   "source": [
    "## 김주하 recognition.json에 있는 파일명만 뽑아서 리스트에 저장\n",
    "import json\n",
    "import dropbox\n",
    "from dropbox.exceptions import ApiError\n",
    "import time\n",
    "\n",
    "## reconitoin.json 에 있는 파이명만 keyList 에 저장\n",
    "keyList = []\n",
    "json_data=open('/Users/joon/Dropbox/recognition_jooha.json').read()\n",
    "data = json.loads(json_data)\n",
    "\n",
    "for value in data.keys():\n",
    "    value = value.split('/')\n",
    "    keyList.append(value[6])## 파일명만 리스트에 저장\n",
    "\n",
    "##reconitoin.json에 파일명이 같은게 있으면 공유링크 뽑기, 없으면 pass\n",
    "\n",
    "db = dropbox.Dropbox('C0w-C7kkDNAAAAAAAAAAE44R8t2689JstWqe2B8W6xMxUZXuSZnYCQ3tF3wqBizQ')\n",
    "response = db.files_list_folder('/jooha_pydub')\n",
    "dlList = [] #직접링크 담기 위한 리스트\n",
    "index = 11885 ## 1873 어디서 부터 할지 ,3773 , 5660, 7574, 9488, 11398,11885\n",
    "for file in response.entries:\n",
    "    try:\n",
    "        if file.name in keyList:## reconitoin.json에 파일명이 같은게 있으면 \n",
    "            #print(file.name)\n",
    "            #print(file.path_lower)\n",
    "            time.sleep(0.1)\n",
    "            #shared_link_metadata = db.sharing_create_shared_link_with_settings(file.path_lower)\n",
    "            shared_link_metadata = db.sharing_create_shared_link(file.path_lower) \n",
    "            time.sleep(0.1)\n",
    "            #print (shared_link_metadata.url)\n",
    "            str = shared_link_metadata.url\n",
    "            time.sleep(0.1)\n",
    "            str = str.split('/')\n",
    "            link = 'https://www.dl.dropboxusercontent.com/s/'\n",
    "            dlLink = link + str[4]+'/'+str[5]  #직접링크 생성\n",
    "            time.sleep(0.1)\n",
    "            dlList.append(dlLink)\n",
    "            print(repr(index)+' : '+file.name)\n",
    "            print(dlLink)\n",
    "            print(\"-------\")\n",
    "            index +=1\n",
    "\n",
    "                \n",
    "    except ApiError as err:\n",
    "        if err.error.is_shared_link_already_exists():\n",
    "            print(\"Link already exists.\")\n",
    "        if err.error.is_path() and err.error.get_path().is_not_found():\n",
    "            print(\"File not found.\")\n",
    "        elif err.error.is_settings_error():\n",
    "            print(err.error.get_settings_error())\n",
    "        else:\n",
    "            print(err)\n",
    "            print('슈바')\n",
    "            #continue ## 2000 개씩 끊어도 다시 go! --> 소용 없음 2000개에서 끊김\n"
   ]
  },
  {
   "cell_type": "code",
   "execution_count": null,
   "metadata": {
    "collapsed": true
   },
   "outputs": [],
   "source": [
    "print(len(dlList))\n",
    "for i in dlList:\n",
    "    print(i)"
   ]
  },
  {
   "cell_type": "code",
   "execution_count": null,
   "metadata": {
    "collapsed": true
   },
   "outputs": [],
   "source": [
    "## 인덱스 0 부터 1872 번까지의 공유링크 txt 생성\n",
    "f = open(\"/Users/joon/Desktop/드랍박스_공유링크.txt\", 'a')\n",
    "for i in dlList:\n",
    "    f.write(i+'\\n')\n",
    "f.close()"
   ]
  },
  {
   "cell_type": "code",
   "execution_count": 1,
   "metadata": {},
   "outputs": [
    {
     "name": "stdout",
     "output_type": "stream",
     "text": [
      "11886\n"
     ]
    }
   ],
   "source": [
    "## 드랍박스_공유링크.txt 에서 링크 하나씩 읽어 오기 \n",
    "f = open(\"/Users/joon/Desktop/드랍박스_공유링크.txt\", 'r')## 미국선거와한국정치20161110.0025.wav 1875까지 만듬\n",
    "idx =0\n",
    "direct_list = []\n",
    "while True:\n",
    "    line = f.readline()\n",
    "    if not line: break\n",
    "    #print(line)\n",
    "    direct_list.append(line)\n",
    "    idx +=1\n",
    "f.close()\n",
    "print(idx)##1873, 3773 # 5660 # 7574 # 9488 # 11398 # 11885 ## 총 1186개 json 기준"
   ]
  },
  {
   "cell_type": "code",
   "execution_count": 2,
   "metadata": {
    "collapsed": true
   },
   "outputs": [],
   "source": [
    "### recognition.json 정제할 문장만  뽑아서 디비에 넣을 준비하기\n",
    "\n",
    "import json\n",
    "from pprint import pprint\n",
    "\n",
    "valueList = []\n",
    "\n",
    "json_data=open('/Users/joon/Dropbox/recognition_jooha.json').read()\n",
    "\n",
    "data = json.loads(json_data)\n",
    "\n",
    "for value in data.values():\n",
    "    #print(value)\n",
    "    valueList.append(value)"
   ]
  },
  {
   "cell_type": "code",
   "execution_count": 3,
   "metadata": {},
   "outputs": [
    {
     "name": "stdout",
     "output_type": "stream",
     "text": [
      "11886\n"
     ]
    }
   ],
   "source": [
    "print(len(valueList))"
   ]
  },
  {
   "cell_type": "code",
   "execution_count": 5,
   "metadata": {},
   "outputs": [
    {
     "name": "stderr",
     "output_type": "stream",
     "text": [
      "/Users/joon/anaconda/lib/python3.6/site-packages/pymysql/cursors.py:166: Warning: (1265, \"Data truncated for column 'direct_links' at row 1\")\n",
      "  result = self._query(query)\n"
     ]
    }
   ],
   "source": [
    "## 직접링크와 정제할 문장 페어 맞춰서 동시에 같이 디비에 넣기(개발 버전/실서비스 버전 구분)\n",
    "import django\n",
    "import os\n",
    "#os.environ.setdefault(\"DJANGO_SETTINGS_MODULE\", \"LionSourcing.settings.dev\")## 개발 버전\n",
    "os.environ.setdefault(\"DJANGO_SETTINGS_MODULE\", \"LionSourcing.settings.prod_aws_eb\")##실서비스버전\n",
    "django.setup()\n",
    "\n",
    "from main.models import Main\n",
    "\n",
    "#Main.objects.all().delete() ## 디비 값 삭제\n",
    "\n",
    "for i in range(len(valueList)):\n",
    "    Main.objects.create(before_sentences=valueList[i] , direct_links=direct_list[i])\n",
    "    #break # for 하나로 실험"
   ]
  },
  {
   "cell_type": "code",
   "execution_count": null,
   "metadata": {
    "collapsed": true,
    "scrolled": true
   },
   "outputs": [],
   "source": [
    "#디비 값 출력 , for 확인\n",
    "qs = Main.objects.all()\n",
    "qs = qs[:20]\n",
    "print(qs)"
   ]
  }
 ],
 "metadata": {
  "kernelspec": {
   "display_name": "Django Shell-Plus",
   "language": "python",
   "name": "django_extensions"
  },
  "language_info": {
   "codemirror_mode": {
    "name": "ipython",
    "version": 3
   },
   "file_extension": ".py",
   "mimetype": "text/x-python",
   "name": "python",
   "nbconvert_exporter": "python",
   "pygments_lexer": "ipython3",
   "version": "3.6.1"
  }
 },
 "nbformat": 4,
 "nbformat_minor": 2
}
