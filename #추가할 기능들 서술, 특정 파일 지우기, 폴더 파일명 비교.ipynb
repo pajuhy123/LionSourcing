{
 "cells": [
  {
   "cell_type": "code",
   "execution_count": 13,
   "metadata": {
    "collapsed": true
   },
   "outputs": [],
   "source": [
    "### 라이언 소싱에 기능 추가할 것들\n",
    "1. 인덱스 자동 저장 기능\n",
    "2. 자신이 했던거 보여주는 기능\n",
    "3. 5개 한번에 서버 제출 기능    // 계속쭉 쓰다가 제출 버튼 누르기, 했던 것들은 쿠키 값에 저ㅈ-> 한번에 제출     "
   ]
  },
  {
   "cell_type": "code",
   "execution_count": null,
   "metadata": {
    "collapsed": true
   },
   "outputs": [],
   "source": [
    "## .txt에 해당하는 파일만 지우기\n",
    "\n",
    "import os\n",
    "root_path = '/Users/joon/Downloads/jooha_pydub/'\n",
    "for root, dirs, files in os.walk('/Users/joon/Downloads/jooha_pydub'):\n",
    "    for file in files:\n",
    "        file_path = root_path+file\n",
    "        if file_path.endswith('.txt'):\n",
    "                #print(file_path)\n",
    "                os.remove(file_path)"
   ]
  },
  {
   "cell_type": "code",
   "execution_count": 26,
   "metadata": {},
   "outputs": [
    {
     "name": "stdout",
     "output_type": "stream",
     "text": [
      "김주하앵커의9월15일이한장의사진20160915.0002.wav\n"
     ]
    }
   ],
   "source": [
    "## 하나의 폴더랑 또 다른 폴더 비교해서, 다른 파일명 뽑아내기 --> 혹시 빠뜨린거 없나 체크용\n",
    "import os\n",
    "idx = 0\n",
    "file1_list =[]\n",
    "for root, dirs, files in os.walk('/Users/joon/Dropbox/jooha_pydub'):\n",
    "    for file in files:\n",
    "            idx +=1\n",
    "            #print(file)\n",
    "            file1_list.append(file)\n",
    "            \n",
    "#print(idx)\n",
    "for root, dirs, files in os.walk('/Users/joon/Dropbox/김주하 음성'):\n",
    "    for file in files:\n",
    "        if file not in file1_list:\n",
    "            print(file)\n",
    "                "
   ]
  }
 ],
 "metadata": {
  "kernelspec": {
   "display_name": "Django Shell-Plus",
   "language": "python",
   "name": "django_extensions"
  },
  "language_info": {
   "codemirror_mode": {
    "name": "ipython",
    "version": 3
   },
   "file_extension": ".py",
   "mimetype": "text/x-python",
   "name": "python",
   "nbconvert_exporter": "python",
   "pygments_lexer": "ipython3",
   "version": "3.6.1"
  }
 },
 "nbformat": 4,
 "nbformat_minor": 2
}
