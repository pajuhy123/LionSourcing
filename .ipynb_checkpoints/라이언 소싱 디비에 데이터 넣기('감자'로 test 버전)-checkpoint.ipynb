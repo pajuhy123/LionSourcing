{
 "cells": [
  {
   "cell_type": "code",
   "execution_count": null,
   "metadata": {},
   "outputs": [],
   "source": [
    "### 드랍박스에서 직접링크를 뽑아 디비에 넣을 준비\n",
    "\n",
    "import dropbox\n",
    "from dropbox.exceptions import ApiError\n",
    "\n",
    "db = dropbox.Dropbox('C0w-C7kkDNAAAAAAAAAAE44R8t2689JstWqe2B8W6xMxUZXuSZnYCQ3tF3wqBizQ')\n",
    "\n",
    "response = db.files_list_folder('/sourcing')\n",
    "dlList = [] #직접링크 담기 위한 리스트\n",
    "\n",
    "for file in response.entries:\n",
    "    #print(file.path_lower)\n",
    "    try:\n",
    "        shared_link_metadata = db.sharing_create_shared_link_with_settings(file.path_lower)\n",
    "        #print (shared_link_metadata.url)\n",
    "        str = shared_link_metadata.url\n",
    "        str = str.split('/')\n",
    "        link = 'https://www.dl.dropboxusercontent.com/s/'\n",
    "        dlLink = link + str[4]+'/'+str[5]  #직접링크 생성\n",
    "        dlList.append(dlLink)\n",
    "        print(dlLink)\n",
    "        print(\"-------\")\n",
    "        \n",
    "    except ApiError as err:\n",
    "        if err.error.is_shared_link_already_exists():\n",
    "            print(\"Link already exists.\")\n",
    "        if err.error.is_path() and err.error.get_path().is_not_found():\n",
    "            print(\"File not found.\")\n",
    "        elif err.error.is_settings_error():\n",
    "            print(err.error.get_settings_error())\n",
    "        else:\n",
    "            print(err)\n",
    "\n",
    "    \n",
    "#print(dlList)"
   ]
  },
  {
   "cell_type": "code",
   "execution_count": null,
   "metadata": {},
   "outputs": [],
   "source": [
    "### 정제할 문장만  뽑아서 디비에 넣을 준비하기\n",
    "\n",
    "import json\n",
    "from pprint import pprint\n",
    "\n",
    "valueList = []\n",
    "\n",
    "json_data=open('/Users/joon/Desktop/test.json').read()\n",
    "\n",
    "data = json.loads(json_data)\n",
    "\n",
    "for value in data.values():\n",
    "    #print(value)\n",
    "    valueList.append(value)"
   ]
  },
  {
   "cell_type": "code",
   "execution_count": null,
   "metadata": {
    "scrolled": true
   },
   "outputs": [],
   "source": [
    "## 직접링크와 정제할 문장 페어 맞춰서 동시에 같이 디비에 넣기\n",
    "\n",
    "from main.models import Main\n",
    "\n",
    "for i in range(len(valueList)):\n",
    "    Main.objects.create(before_sentences=valueList[i] , direct_links=dlList[i] )\n",
    "\n"
   ]
  },
  {
   "cell_type": "code",
   "execution_count": 1,
   "metadata": {
    "scrolled": true
   },
   "outputs": [
    {
     "name": "stdout",
     "output_type": "stream",
     "text": [
      "<QuerySet [<Main: 평양의 칠성문 밖에는 가난한 사람들이 모여 산다.>, <Main: 복녀는 아버지의 가르침을 잊지 않았다.>, <Main: 복녀와 결혼하기 위해서 쓴 돈이 마지막 재산이었다.>, <Main: 복녀 부부는 아무 일이라도 해서 돈을 벌어야 했다.>, <Main: 복녀는 남편에게 화를 내며 일을 하라고 했다.>, <Main: 도둑질 매음 등의 나쁜 일을 하기도 했다.>, <Main: 칠성문 밖에도 돈을 잘 버는 사람이 있었다.>, <Main: 밤에 나가 매음을 하는 사람이었다.>, <Main: &삼, 일 안 하고 돈 많이 받는 일꾼.>, <Main: 관청에서는 칠성문 밖에 여자들 중에서 일꾼을 고르기로 했다.>]>\n"
     ]
    }
   ],
   "source": [
    "print(Main.objects.all())"
   ]
  },
  {
   "cell_type": "code",
   "execution_count": 2,
   "metadata": {},
   "outputs": [
    {
     "name": "stdout",
     "output_type": "stream",
     "text": [
      "평양의 칠성문 밖에는 가난한 사람들이 모여 산다.\n",
      "복녀는 아버지의 가르침을 잊지 않았다.\n",
      "복녀와 결혼하기 위해서 쓴 돈이 마지막 재산이었다.\n",
      "복녀 부부는 아무 일이라도 해서 돈을 벌어야 했다.\n",
      "복녀는 남편에게 화를 내며 일을 하라고 했다.\n",
      "도둑질 매음 등의 나쁜 일을 하기도 했다.\n",
      "칠성문 밖에도 돈을 잘 버는 사람이 있었다.\n",
      "밤에 나가 매음을 하는 사람이었다.\n",
      "삼, 일 안 하고 돈 많이 받는 일꾼.\n",
      "관청에서는 칠성문 밖에 여자들 중에서 일꾼을 고르기로 했다.\n",
      "---------------\n",
      "C:\\Users\\user\\Desktop\\data\\seo-음량조절까지 완료한 데이터 70시간30분\\감자.0004.wav\n",
      "C:\\Users\\user\\Desktop\\data\\seo-음량조절까지 완료한 데이터 70시간30분\\감자.0013.wav\n",
      "C:\\Users\\user\\Desktop\\data\\seo-음량조절까지 완료한 데이터 70시간30분\\감자.0018.wav\n",
      "C:\\Users\\user\\Desktop\\data\\seo-음량조절까지 완료한 데이터 70시간30분\\감자.0027.wav\n",
      "C:\\Users\\user\\Desktop\\data\\seo-음량조절까지 완료한 데이터 70시간30분\\감자.0035.wav\n",
      "C:\\Users\\user\\Desktop\\data\\seo-음량조절까지 완료한 데이터 70시간30분\\감자.0043.wav\n",
      "C:\\Users\\user\\Desktop\\data\\seo-음량조절까지 완료한 데이터 70시간30분\\감자.0051.wav\n",
      "C:\\Users\\user\\Desktop\\data\\seo-음량조절까지 완료한 데이터 70시간30분\\감자.0052.wav\n",
      "C:\\Users\\user\\Desktop\\data\\seo-음량조절까지 완료한 데이터 70시간30분\\감자.0060.wav\n",
      "C:\\Users\\user\\Desktop\\data\\seo-음량조절까지 완료한 데이터 70시간30분\\감자.0063.wav\n",
      "---------------\n",
      "\"C:\\\\Users\\\\user\\\\Desktop\\\\data\\\\seo-음량조절까지 완료한 데이터 70시간30분\\\\감자.0004.wav\": \"평양의 칠성문 밖에는 가난한 사람들이 모여 산다.\"\n",
      "\"C:\\\\Users\\\\user\\\\Desktop\\\\data\\\\seo-음량조절까지 완료한 데이터 70시간30분\\\\감자.0013.wav\": \"복녀는 아버지의 가르침을 잊지 않았다.\"\n",
      "\"C:\\\\Users\\\\user\\\\Desktop\\\\data\\\\seo-음량조절까지 완료한 데이터 70시간30분\\\\감자.0018.wav\": \"복녀와 결혼하기 위해서 쓴 돈이 마지막 재산이었다.\"\n",
      "\"C:\\\\Users\\\\user\\\\Desktop\\\\data\\\\seo-음량조절까지 완료한 데이터 70시간30분\\\\감자.0027.wav\": \"복녀 부부는 아무 일이라도 해서 돈을 벌어야 했다.\"\n",
      "\"C:\\\\Users\\\\user\\\\Desktop\\\\data\\\\seo-음량조절까지 완료한 데이터 70시간30분\\\\감자.0035.wav\": \"복녀는 남편에게 화를 내며 일을 하라고 했다.\"\n",
      "\"C:\\\\Users\\\\user\\\\Desktop\\\\data\\\\seo-음량조절까지 완료한 데이터 70시간30분\\\\감자.0043.wav\": \"도둑질 매음 등의 나쁜 일을 하기도 했다.\"\n",
      "\"C:\\\\Users\\\\user\\\\Desktop\\\\data\\\\seo-음량조절까지 완료한 데이터 70시간30분\\\\감자.0051.wav\": \"칠성문 밖에도 돈을 잘 버는 사람이 있었다.\"\n",
      "\"C:\\\\Users\\\\user\\\\Desktop\\\\data\\\\seo-음량조절까지 완료한 데이터 70시간30분\\\\감자.0052.wav\": \"밤에 나가 매음을 하는 사람이었다.\"\n",
      "\"C:\\\\Users\\\\user\\\\Desktop\\\\data\\\\seo-음량조절까지 완료한 데이터 70시간30분\\\\감자.0060.wav\": \"삼, 일 안 하고 돈 많이 받는 일꾼.\"\n",
      "\"C:\\\\Users\\\\user\\\\Desktop\\\\data\\\\seo-음량조절까지 완료한 데이터 70시간30분\\\\감자.0063.wav\": \"관청에서는 칠성문 밖에 여자들 중에서 일꾼을 고르기로 했다.\"\n"
     ]
    }
   ],
   "source": [
    "### 파이어 베이스에서 json을 내보내고 나서 \n",
    "### 정제된 value 갑을 키값과 매치시켜서 출력\n",
    "\n",
    "import json\n",
    "from pprint import pprint\n",
    "\n",
    "\n",
    "valueList = []\n",
    "keyList = []\n",
    "\n",
    "json_data=open('/Users/joon/Desktop/test.json').read()\n",
    "\n",
    "data = json.loads(json_data)\n",
    "\n",
    "indexing = 0\n",
    "\n",
    "#json 의 value 값들만\n",
    "for value in data.values():\n",
    "    print(value)\n",
    "    valueList.append(value)\n",
    "print(\"---------------\")\n",
    "for value in data.keys():\n",
    "    print(value)\n",
    "    value = value.replace('\\\\','\\\\\\\\')\n",
    "    keyList.append(value)\n",
    "print(\"---------------\")\n",
    "for i in range(len(valueList)):\n",
    "    print('\"'+keyList[i]+'\"'+': '+'\"'+valueList[i]+'\"')"
   ]
  },
  {
   "cell_type": "code",
   "execution_count": null,
   "metadata": {
    "collapsed": true
   },
   "outputs": [],
   "source": [
    "'''\n",
    "어디 까지 했는지는 유저 정보안에 넣자 \n",
    "1. 유저가 어디까지 했는지 인덱싱 기능 : 예를 들어 500 번대 까지 정제를 했다면 500 을 index 로 해서 유저 정보에 넣고\n",
    "디비에서 불러 올때, [500:510] 이런식으로 불러오자.\n",
    "\n",
    "2. 유저에게 10개씩 정제 문장 전송을 하게 하기 , 그러기 위해서는 디비에서 자바스크립트에 정제할 문장들은 보내 줄 때, [x :x+10] 이런식으로\n",
    "\n",
    "3. 다음 열개 정제하기 버튼을 누르면, 다시 view.py 로 돌아와 httpresponce or redirect로 [x:x+10] 추가로 자바스크립트에 전달\n",
    "\n",
    "4. 10개씩 묶어서 보내기 전에 는 자신이 했던거! 보여주는 기능 --> 자신이 한것은 자바스크립트에 10씩 넣어놨다가 보내기 \n",
    "'''"
   ]
  }
 ],
 "metadata": {
  "kernelspec": {
   "display_name": "Django Shell-Plus",
   "language": "python",
   "name": "django_extensions"
  },
  "language_info": {
   "codemirror_mode": {
    "name": "ipython",
    "version": 3
   },
   "file_extension": ".py",
   "mimetype": "text/x-python",
   "name": "python",
   "nbconvert_exporter": "python",
   "pygments_lexer": "ipython3",
   "version": "3.6.1"
  }
 },
 "nbformat": 4,
 "nbformat_minor": 2
}
